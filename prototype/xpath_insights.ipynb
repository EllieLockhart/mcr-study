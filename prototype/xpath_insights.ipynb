{
 "cells": [
  {
   "cell_type": "markdown",
   "metadata": {},
   "source": [
    "## XPath Data Collection Prototype\n",
    "Not for production use. The purpose of this notebook is to test the functionality of methods of XPath-based data harvesting, as well as various database-related functions that are crucial to the project\n",
    "\n",
    "### Notebook Requirements/Recommendations:\n",
    "- Conda/Jupyter (Miniconda used for development)\n",
    "- Python 3.7.9 (standard for entire project; some NLP libraries used at various project stages do not currently support newer Python versions)\n",
    "- Neo4j Database (by default, configured remotely; tested with Neo4j 4.1 Enterprise)\n",
    "- none of this code has been tested on 32-bit systems, or on Microsoft Windows\n",
    "\n",
    "**Recommended Specs**\n",
    "- 8GB RAM (16GB for optimal performance)\n",
    "- high performance CPU (does not multithread well, so low CPU count should be fine)"
   ]
  },
  {
   "cell_type": "code",
   "execution_count": 9,
   "metadata": {},
   "outputs": [],
   "source": [
    "# requisite imports go in this cell\n",
    "# OS imports related to the file system and configuration\n",
    "import os\n",
    "# quality of life imports\n",
    "import pprint\n",
    "# Neo4j database support\n",
    "from neomodel import config\n"
   ]
  },
  {
   "cell_type": "code",
   "execution_count": 10,
   "metadata": {},
   "outputs": [
    {
     "name": "stdout",
     "output_type": "stream",
     "text": [
      "None\n"
     ]
    }
   ],
   "source": []
  }
 ],
 "metadata": {
  "kernelspec": {
   "display_name": "Python 3.7.9 64-bit ('standard': conda)",
   "metadata": {
    "interpreter": {
     "hash": "f34b6412624e82961d6c8061e227ea4f1624eb1a2c6202f33fdc51b2e9c0badd"
    }
   },
   "name": "python3"
  },
  "language_info": {
   "codemirror_mode": {
    "name": "ipython",
    "version": 3
   },
   "file_extension": ".py",
   "mimetype": "text/x-python",
   "name": "python",
   "nbconvert_exporter": "python",
   "pygments_lexer": "ipython3",
   "version": "3.7.9"
  },
  "orig_nbformat": 2
 },
 "nbformat": 4,
 "nbformat_minor": 2
}