{
 "cells": [
  {
   "cell_type": "markdown",
   "metadata": {},
   "source": [
    "## XPath Data Collection Prototype\n",
    "Not for production use. The purpose of this notebook is to test the functionality of methods of XPath-based data harvesting, as well as various database-related functions that are crucial to the project\n",
    "\n",
    "### Notebook Requirements/Recommendations:\n",
    "- Conda/Jupyter (Miniconda used for development)\n",
    "- Python 3.7.9 (standard for entire project; some NLP libraries used at various project stages do not currently support newer Python versions)\n",
    "- Neo4j Database (by default, configured remotely; tested with Neo4j 4.1 Enterprise)\n",
    "- none of this code has been tested on 32-bit systems, or on Microsoft Windows\n",
    "\n",
    "**Recommended Specs**\n",
    "- 8GB RAM (16GB for optimal performance)\n",
    "- high performance CPU (does not multithread well, so low CPU count should be fine)"
   ]
  },
  {
   "cell_type": "code",
   "execution_count": 7,
   "metadata": {},
   "outputs": [
    {
     "name": "stdout",
     "output_type": "stream",
     "text": [
      "Necessary dependencies loaded for notebook.\n"
     ]
    }
   ],
   "source": [
    "# requisite imports go in this cell\n",
    "# OS imports related to the file system and configuration\n",
    "\n",
    "# quality of life imports\n",
    "from pprint import pprint\n",
    "# configuration and formatting related imports\n",
    "import json\n",
    "\n",
    "# Neo4j database support\n",
    "from py2neo import *\n",
    "\n",
    "# Boto3 support for archiving and final data storage\n",
    "import boto3\n",
    "from botocore.exceptions import ClientError\n",
    "\n",
    "print('Necessary dependencies loaded for notebook.')"
   ]
  },
  {
   "cell_type": "code",
   "execution_count": 8,
   "metadata": {},
   "outputs": [
    {
     "name": "stdout",
     "output_type": "stream",
     "text": [
      "Neo4j authentication parsed from file neo.json in config_b directory.\n"
     ]
    }
   ],
   "source": [
    "neo_json_file = open('../config_b/neo.json')\n",
    "neo_json_unparsed = neo_json_file.read()\n",
    "\n",
    "neo_json_parsed = json.loads(neo_json_unparsed)\n",
    "\n",
    "neo_protocol = neo_json_parsed['neoProtocol']\n",
    "neo_address = neo_json_parsed['neoUrl']\n",
    "neo_port = neo_json_parsed['neoPort']\n",
    "neo_username = neo_json_parsed['neoUser']\n",
    "neo_auth = neo_json_parsed['neoPass']\n",
    "\n",
    "print('Neo4j authentication parsed from file neo.json in config_b directory.')"
   ]
  },
  {
   "cell_type": "code",
   "execution_count": 9,
   "metadata": {},
   "outputs": [
    {
     "name": "stdout",
     "output_type": "stream",
     "text": [
      "Neo4j connection function established.\n"
     ]
    }
   ],
   "source": [
    "neo_connection_string = F'{neo_protocol}{neo_username}:{neo_auth}@{neo_address}:{neo_port}'\n",
    "neo = Graph(neo_connection_string)\n",
    "\n",
    "print('Neo4j connection function established.')"
   ]
  },
  {
   "cell_type": "code",
   "execution_count": 11,
   "metadata": {},
   "outputs": [
    {
     "name": "stdout",
     "output_type": "stream",
     "text": [
      "Cloud storage credentials parsed from file boto.json in config_b directory.\n"
     ]
    }
   ],
   "source": [
    "# parse the Boto3 (S3/DO Spaces/etc.) access credentials from the required JSON file\n",
    "boto_json_file = open('../config_b/boto.json')\n",
    "boto_json_unparsed = boto_json_file.read()\n",
    "\n",
    "boto_json_parsed = json.loads(boto_json_unparsed)\n",
    "\n",
    "boto_region = boto_json_parsed['REGION'] \n",
    "boto_endpoint = boto_json_parsed['ENDPOINT']  \n",
    "boto_key = boto_json_parsed['KEY']\n",
    "boto_secret = boto_json_parsed['SECRET']\n",
    "\n",
    "print('Cloud storage credentials parsed from file boto.json in config_b directory.')\n"
   ]
  },
  {
   "cell_type": "code",
   "execution_count": 1,
   "metadata": {},
   "outputs": [],
   "source": [
    "# Boto3 connection function\n",
    "func upload_to_s3(local_path, )   "
   ]
  }
 ],
 "metadata": {
  "kernelspec": {
   "display_name": "Python 3.7.9 64-bit ('standard': conda)",
   "metadata": {
    "interpreter": {
     "hash": "f34b6412624e82961d6c8061e227ea4f1624eb1a2c6202f33fdc51b2e9c0badd"
    }
   },
   "name": "python3"
  },
  "language_info": {
   "codemirror_mode": {
    "name": "ipython",
    "version": 3
   },
   "file_extension": ".py",
   "mimetype": "text/x-python",
   "name": "python",
   "nbconvert_exporter": "python",
   "pygments_lexer": "ipython3",
   "version": "3.7.9-final"
  },
  "orig_nbformat": 2
 },
 "nbformat": 4,
 "nbformat_minor": 2
}